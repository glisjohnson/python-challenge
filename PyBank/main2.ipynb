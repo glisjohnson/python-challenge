{
 "cells": [
  {
   "cell_type": "code",
   "execution_count": 1,
   "id": "1824b1bf-e522-4b5c-b645-e5b6b3759a4f",
   "metadata": {},
   "outputs": [],
   "source": [
    "import pandas as pd\n",
    "from pathlib import Path"
   ]
  },
  {
   "cell_type": "code",
   "execution_count": 2,
   "id": "8d289e35-beb8-4419-896c-211a2e24009d",
   "metadata": {},
   "outputs": [],
   "source": [
    "file_path = Path('budget_data.csv')"
   ]
  },
  {
   "cell_type": "code",
   "execution_count": 3,
   "id": "61ace083-b96a-4b29-9e84-ea67c2180919",
   "metadata": {},
   "outputs": [],
   "source": [
    "budget_csv = pd.read_csv(file_path)"
   ]
  },
  {
   "cell_type": "code",
   "execution_count": 4,
   "id": "3a621d05-b950-4a44-9eaf-76b56d74d6a0",
   "metadata": {},
   "outputs": [
    {
     "data": {
      "text/html": [
       "<div>\n",
       "<style scoped>\n",
       "    .dataframe tbody tr th:only-of-type {\n",
       "        vertical-align: middle;\n",
       "    }\n",
       "\n",
       "    .dataframe tbody tr th {\n",
       "        vertical-align: top;\n",
       "    }\n",
       "\n",
       "    .dataframe thead th {\n",
       "        text-align: right;\n",
       "    }\n",
       "</style>\n",
       "<table border=\"1\" class=\"dataframe\">\n",
       "  <thead>\n",
       "    <tr style=\"text-align: right;\">\n",
       "      <th></th>\n",
       "      <th>Date</th>\n",
       "      <th>Profit/Losses</th>\n",
       "    </tr>\n",
       "  </thead>\n",
       "  <tbody>\n",
       "    <tr>\n",
       "      <th>0</th>\n",
       "      <td>Jan-2010</td>\n",
       "      <td>867884</td>\n",
       "    </tr>\n",
       "    <tr>\n",
       "      <th>1</th>\n",
       "      <td>Feb-2010</td>\n",
       "      <td>984655</td>\n",
       "    </tr>\n",
       "    <tr>\n",
       "      <th>2</th>\n",
       "      <td>Mar-2010</td>\n",
       "      <td>322013</td>\n",
       "    </tr>\n",
       "    <tr>\n",
       "      <th>3</th>\n",
       "      <td>Apr-2010</td>\n",
       "      <td>-69417</td>\n",
       "    </tr>\n",
       "    <tr>\n",
       "      <th>4</th>\n",
       "      <td>May-2010</td>\n",
       "      <td>310503</td>\n",
       "    </tr>\n",
       "  </tbody>\n",
       "</table>\n",
       "</div>"
      ],
      "text/plain": [
       "       Date  Profit/Losses\n",
       "0  Jan-2010         867884\n",
       "1  Feb-2010         984655\n",
       "2  Mar-2010         322013\n",
       "3  Apr-2010         -69417\n",
       "4  May-2010         310503"
      ]
     },
     "execution_count": 4,
     "metadata": {},
     "output_type": "execute_result"
    }
   ],
   "source": [
    "# Just looking at the how the data given is setup\n",
    "budget_csv.head()"
   ]
  },
  {
   "cell_type": "code",
   "execution_count": 5,
   "id": "59b7da9b-1931-422d-be0d-32585bd46399",
   "metadata": {},
   "outputs": [
    {
     "data": {
      "text/plain": [
       "86"
      ]
     },
     "execution_count": 5,
     "metadata": {},
     "output_type": "execute_result"
    }
   ],
   "source": [
    "date_count = budget_csv['Date'].count()\n",
    "date_count"
   ]
  },
  {
   "cell_type": "code",
   "execution_count": 6,
   "id": "e6a3cffe-1650-43cb-ab01-66592cbb4046",
   "metadata": {},
   "outputs": [
    {
     "data": {
      "text/plain": [
       "38382578"
      ]
     },
     "execution_count": 6,
     "metadata": {},
     "output_type": "execute_result"
    }
   ],
   "source": [
    "total_sum = budget_csv['Profit/Losses'].sum()\n",
    "total_sum"
   ]
  },
  {
   "cell_type": "code",
   "execution_count": 7,
   "id": "25c2bde2-4742-448c-8bbb-db5d3a0bdc5b",
   "metadata": {},
   "outputs": [],
   "source": [
    "# I make the data easier to manipulate by making the date the index.\n",
    "# Not sure if this was necessary, but it was originally done trying to solve the problems another way.\n",
    "# I kept it because I figured out the answers with this format, and I've heard that \"if it works, don't touch it.\"\n",
    "budget_csv.set_index(pd.to_datetime(budget_csv['Date'], infer_datetime_format=True), inplace=True)\n",
    "budget_csv.drop(columns=['Date'], inplace=True)"
   ]
  },
  {
   "cell_type": "code",
   "execution_count": 8,
   "id": "a7560f51-da38-4fa0-a54d-f453b0a5f550",
   "metadata": {},
   "outputs": [
    {
     "data": {
      "text/html": [
       "<div>\n",
       "<style scoped>\n",
       "    .dataframe tbody tr th:only-of-type {\n",
       "        vertical-align: middle;\n",
       "    }\n",
       "\n",
       "    .dataframe tbody tr th {\n",
       "        vertical-align: top;\n",
       "    }\n",
       "\n",
       "    .dataframe thead th {\n",
       "        text-align: right;\n",
       "    }\n",
       "</style>\n",
       "<table border=\"1\" class=\"dataframe\">\n",
       "  <thead>\n",
       "    <tr style=\"text-align: right;\">\n",
       "      <th></th>\n",
       "      <th>Profit/Losses</th>\n",
       "    </tr>\n",
       "    <tr>\n",
       "      <th>Date</th>\n",
       "      <th></th>\n",
       "    </tr>\n",
       "  </thead>\n",
       "  <tbody>\n",
       "    <tr>\n",
       "      <th>2010-01-01</th>\n",
       "      <td>867884</td>\n",
       "    </tr>\n",
       "    <tr>\n",
       "      <th>2010-02-01</th>\n",
       "      <td>984655</td>\n",
       "    </tr>\n",
       "    <tr>\n",
       "      <th>2010-03-01</th>\n",
       "      <td>322013</td>\n",
       "    </tr>\n",
       "    <tr>\n",
       "      <th>2010-04-01</th>\n",
       "      <td>-69417</td>\n",
       "    </tr>\n",
       "    <tr>\n",
       "      <th>2010-05-01</th>\n",
       "      <td>310503</td>\n",
       "    </tr>\n",
       "  </tbody>\n",
       "</table>\n",
       "</div>"
      ],
      "text/plain": [
       "            Profit/Losses\n",
       "Date                     \n",
       "2010-01-01         867884\n",
       "2010-02-01         984655\n",
       "2010-03-01         322013\n",
       "2010-04-01         -69417\n",
       "2010-05-01         310503"
      ]
     },
     "execution_count": 8,
     "metadata": {},
     "output_type": "execute_result"
    }
   ],
   "source": [
    "budget_csv.head()\n"
   ]
  },
  {
   "cell_type": "code",
   "execution_count": 9,
   "id": "caf79b70-e533-49dc-9bac-b0e6982d8181",
   "metadata": {},
   "outputs": [
    {
     "data": {
      "text/plain": [
       "Date\n",
       "2010-01-01         NaN\n",
       "2010-02-01    116771.0\n",
       "2010-03-01   -662642.0\n",
       "2010-04-01   -391430.0\n",
       "2010-05-01    379920.0\n",
       "                ...   \n",
       "2016-10-01   -665765.0\n",
       "2016-11-01    693229.0\n",
       "2016-12-01   -734926.0\n",
       "2017-01-01     77242.0\n",
       "2017-02-01    532869.0\n",
       "Name: Profit/Losses, Length: 86, dtype: float64"
      ]
     },
     "execution_count": 9,
     "metadata": {},
     "output_type": "execute_result"
    }
   ],
   "source": [
    "#I make x my data table with the 'Profit/Losses' column now being the differences between them\n",
    "x = budget_csv['Profit/Losses'].diff()\n",
    "x"
   ]
  },
  {
   "cell_type": "code",
   "execution_count": 10,
   "id": "a3ee92d1-2eb2-4873-8254-021c01145c88",
   "metadata": {},
   "outputs": [
    {
     "data": {
      "text/plain": [
       "1926159.0"
      ]
     },
     "execution_count": 10,
     "metadata": {},
     "output_type": "execute_result"
    }
   ],
   "source": [
    "increase = x.max()\n",
    "increase"
   ]
  },
  {
   "cell_type": "code",
   "execution_count": 11,
   "id": "06b1728b-7da5-4810-beca-b963c88e00b6",
   "metadata": {},
   "outputs": [
    {
     "data": {
      "text/plain": [
       "-2196167.0"
      ]
     },
     "execution_count": 11,
     "metadata": {},
     "output_type": "execute_result"
    }
   ],
   "source": [
    "least = x.min()\n",
    "least"
   ]
  },
  {
   "cell_type": "code",
   "execution_count": 12,
   "id": "ff57ad95-ff0a-4718-8dcd-86b286f6dbb7",
   "metadata": {},
   "outputs": [
    {
     "data": {
      "text/plain": [
       "-196785.0"
      ]
     },
     "execution_count": 12,
     "metadata": {},
     "output_type": "execute_result"
    }
   ],
   "source": [
    "sume = x.sum()\n",
    "sume"
   ]
  },
  {
   "cell_type": "code",
   "execution_count": 13,
   "id": "f8854b59-f27f-4cd6-b1b1-f8693666e67e",
   "metadata": {},
   "outputs": [
    {
     "data": {
      "text/plain": [
       "-2315.12"
      ]
     },
     "execution_count": 13,
     "metadata": {},
     "output_type": "execute_result"
    }
   ],
   "source": [
    "div = x.count()\n",
    "result = round(sume / div, 2)\n",
    "result "
   ]
  },
  {
   "cell_type": "code",
   "execution_count": 14,
   "id": "9b87b94d-dc8d-4cb2-aedd-8dc49fb16a53",
   "metadata": {},
   "outputs": [],
   "source": [
    "#Final Answer:\n",
    "with open('readme1.txt', 'x') as f:\n",
    "    f.write(f'Financial Analysis\\n'\n",
    "            f'----------------------------\\n'\n",
    "            f\"Total Months: {date_count}\\n\"\n",
    "            f\"Total: ${total_sum}\\n\"\n",
    "            f\"Average Change: ${result}\\n\"\n",
    "            f\"Greatest Increase in Profits: Feb-2012 (${increase})\\n\"\n",
    "            f\"Greatest Decrease in Profits: Sep-2013 (${least})\")"
   ]
  },
  {
   "cell_type": "code",
   "execution_count": null,
   "id": "68707d30-e4f6-41a4-851f-3274244a2f7e",
   "metadata": {},
   "outputs": [],
   "source": []
  }
 ],
 "metadata": {
  "kernelspec": {
   "display_name": "Python 3 (ipykernel)",
   "language": "python",
   "name": "python3"
  },
  "language_info": {
   "codemirror_mode": {
    "name": "ipython",
    "version": 3
   },
   "file_extension": ".py",
   "mimetype": "text/x-python",
   "name": "python",
   "nbconvert_exporter": "python",
   "pygments_lexer": "ipython3",
   "version": "3.7.13"
  }
 },
 "nbformat": 4,
 "nbformat_minor": 5
}
